{
 "cells": [
  {
   "cell_type": "markdown",
   "metadata": {},
   "source": [
    "# Step 1\n",
    "- Grab the CSV files from https://wellstar-public.conservation.ca.gov/General/PublicDownloads/Index.\n",
    " "
   ]
  },
  {
   "cell_type": "code",
   "execution_count": 2,
   "metadata": {},
   "outputs": [],
   "source": [
    "import numpy as np\n",
    "import pandas as pd\n",
    "from sqlalchemy import create_engine\n",
    "import time"
   ]
  },
  {
   "cell_type": "code",
   "execution_count": 7,
   "metadata": {},
   "outputs": [
    {
     "name": "stdout",
     "output_type": "stream",
     "text": [
      "currently processing year:(2020)\n",
      "processing year complete:(2020), waiting 5 sec...\n",
      "currently processing year:(2021)\n",
      "processing year complete:(2021), waiting 5 sec...\n",
      "currently processing year:(2022)\n",
      "processing year complete:(2022), waiting 5 sec...\n",
      "currently processing year:(2023)\n",
      "processing year complete:(2023), waiting 5 sec...\n"
     ]
    }
   ],
   "source": [
    "# Define the years we plan to download from CalGEM\n",
    "years = ['2020','2021','2022','2023']\n",
    "\n",
    "# Iterate over each year we plan to download.\n",
    "for year in years:\n",
    "    print(f'Currently processing year:({year})')\n",
    "\n",
    "    # Create a dictionary of filenames for each dataset we plan to work with.\n",
    "    calgem_filenames = {\n",
    "        \"wells_file\": f\"{year}CaliforniaOilAndGasWells.csv\",\n",
    "        \"production_file\": f\"{year}CaliforniaOilAndGasWellMonthlyProduction.csv\",+\n",
    "        \"injection_file\": f\"{year}CaliforniaOilAndGasWellMonthlyInjection.csv\"\n",
    "    }\n",
    "\n",
    "    # Construct the CalGEM urls needed to download the datasets.\n",
    "    wells_url = f\"https://calgem-pid.conservation.ca.gov/pid/{calgem_filenames['wells_file']}\"\n",
    "    production_url = f\"https://calgem-pid.conservation.ca.gov/pid/{calgem_filenames['production_file']}\"\n",
    "    injections_url = f\"https://calgem-pid.conservation.ca.gov/pid/{calgem_filenames['injection_file']}\"\n",
    "\n",
    "    # step to be able to webscrape the data: https://stackoverflow.com/questions/55711159/pandas-read-csv-from-url-and-include-request-header\n",
    "    # Custom way to tell CalGEM to accept our request for the data.\n",
    "    headers = {\n",
    "        'User-Agent': 'Mozilla/5.0 (X11; Linux x86_64) AppleWebKit/537.11 (KHTML, like Gecko) Chrome/23.0.1271.64 Safari/537.11'\n",
    "    }\n",
    "\n",
    "    # Create a dataframe for each dataset from CalGEM, and formats the data as CSV.\n",
    "    df_wells_data = pd.read_csv(wells_url, storage_options=headers)\n",
    "    df_production_data = pd.read_csv(production_url, storage_options=headers)\n",
    "    df_injection_data = pd.read_csv(injections_url, storage_options=headers)\n",
    "\n",
    "    # add column Year to df_wells_data in each year downloaded.\n",
    "    df_wells_data['ReportYear'] = year\n",
    "    df_production_data['ReportYear'] = year\n",
    "    df_injection_data['ReportYear'] = year\n",
    "\n",
    "    # Writes the downloaded CalGEM data to the CSV file.\n",
    "    df_wells_data.to_csv(calgem_filenames['wells_file'])\n",
    "    df_production_data.to_csv(calgem_filenames['production_file'])\n",
    "    df_injection_data.to_csv(calgem_filenames['injection_file'])\n",
    "\n",
    "    # Create a connection to the sqlite database.\n",
    "    disk_engine = create_engine('sqlite:///C://sqlite//capstone.db')\n",
    "\n",
    "    # Write the data from each dataset into the corresponding database table.\n",
    "    df_wells_data.to_sql('wells_data', disk_engine, if_exists='append')\n",
    "    df_production_data.to_sql('production_data', disk_engine, if_exists='append')\n",
    "    df_injection_data.to_sql('injection_data', disk_engine, if_exists='append')\n",
    "\n",
    "    # Completed this year. Waiting 5 seconds before we process the next years worth of data.\n",
    "    print(f'Processing year complete:({year}), waiting 5 sec...')\n",
    "    time.sleep(5)\n",
    "\n",
    "# We are done.\n",
    "print(\"Download Complete.\")"
   ]
  },
  {
   "cell_type": "markdown",
   "metadata": {},
   "source": []
  }
 ],
 "metadata": {
  "kernelspec": {
   "display_name": "Python 3",
   "language": "python",
   "name": "python3"
  },
  "language_info": {
   "codemirror_mode": {
    "name": "ipython",
    "version": 3
   },
   "file_extension": ".py",
   "mimetype": "text/x-python",
   "name": "python",
   "nbconvert_exporter": "python",
   "pygments_lexer": "ipython3",
   "version": "3.11.6"
  }
 },
 "nbformat": 4,
 "nbformat_minor": 2
}
