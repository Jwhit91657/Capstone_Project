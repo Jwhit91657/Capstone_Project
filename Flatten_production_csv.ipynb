{
 "cells": [
  {
   "cell_type": "code",
   "execution_count": 7,
   "metadata": {},
   "outputs": [],
   "source": [
    "import numpy as np\n",
    "import pandas as pd\n",
    "from sqlalchemy import create_engine\n",
    "import csv"
   ]
  },
  {
   "cell_type": "code",
   "execution_count": 13,
   "metadata": {},
   "outputs": [],
   "source": [
    "# Specify the CSV file path\n",
    "wells_output_file = 'wells_flattened_data.csv'\n",
    "production_output_file = 'production_flattened_data.csv'\n",
    "injection_output_file = 'injection_flattened_data.csv'\n",
    "\n",
    "calgem_filenames = {\n",
    "    \"wells_files\": [\n",
    "        \"2020CaliforniaOilAndGasWells.csv\",\n",
    "        \"2021CaliforniaOilAndGasWells.csv\",\n",
    "        \"2022CaliforniaOilAndGasWells.csv\",\n",
    "        \"2023CaliforniaOilAndGasWells.csv\",\n",
    "    ],\n",
    "    \"production_files\": [\n",
    "        \"2020CaliforniaOilAndGasWellMonthlyProduction.csv\",\n",
    "        \"2021CaliforniaOilAndGasWellMonthlyProduction.csv\",\n",
    "        \"2022CaliforniaOilAndGasWellMonthlyProduction.csv\",\n",
    "        \"2023CaliforniaOilAndGasWellMonthlyProduction.csv\",\n",
    "    ],\n",
    "    \"injection_files\": [\n",
    "        \"2020CaliforniaOilAndGasWellMonthlyInjection.csv\",\n",
    "        \"2021CaliforniaOilAndGasWellMonthlyInjection.csv\",\n",
    "        \"2022CaliforniaOilAndGasWellMonthlyInjection.csv\",\n",
    "        \"2023CaliforniaOilAndGasWellMonthlyInjection.csv\",\n",
    "    ]\n",
    " }\n",
    "\n",
    "wells_files = calgem_filenames[\"wells_files\"]\n",
    "production_files = calgem_filenames[\"production_files\"]\n",
    "injection_files = calgem_filenames[\"injection_files\"]\n",
    "\n",
    "#first attempt to getting all the data flattened. \n",
    "            \n",
    "for w_file in wells_files:\n",
    "    print(f\"Handling file = {w_file}\")\n",
    "    df = pd.read_csv(w_file)\n",
    "    df.to_csv(wells_output_file, mode='a', header=True, index=False)\n",
    "\n",
    "for p_file in production_files:\n",
    "    print(f\"Handling file = {p_file}\")\n",
    "    df = pd.read_csv(p_file)\n",
    "    df.to_csv(production_output_file, mode='a', header=True, index=False)\n",
    "\n",
    "for i_file in injection_files:\n",
    "    print(f\"Handling file = {i_file}\")\n",
    "    df = pd.read_csv(i_file)\n",
    "    df.to_csv(injection_output_file, mode='a', header=True, index=False)\n"
   ]
  }
 ],
 "metadata": {
  "kernelspec": {
   "display_name": "Python 3",
   "language": "python",
   "name": "python3"
  },
  "language_info": {
   "codemirror_mode": {
    "name": "ipython",
    "version": 3
   },
   "file_extension": ".py",
   "mimetype": "text/x-python",
   "name": "python",
   "nbconvert_exporter": "python",
   "pygments_lexer": "ipython3",
   "version": "3.11.7"
  }
 },
 "nbformat": 4,
 "nbformat_minor": 2
}
